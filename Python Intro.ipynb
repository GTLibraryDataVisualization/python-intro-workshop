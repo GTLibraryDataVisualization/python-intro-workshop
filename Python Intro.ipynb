{
 "cells": [
  {
   "cell_type": "markdown",
   "metadata": {},
   "source": [
    "Python 3 Introductory Workshop\n",
    "\n",
    "Python is known for being one of the most versitile and easy to use languages\n",
    "\n",
    "Popular uses for python include\n",
    "    \n",
    "    Mathematics and big data\n",
    "        Packagages used for reading in, manipulating, and analyzing data quickly(Numpy, Pandas)\n",
    "    Simple Scripting\n",
    "        Writing a functional program that performs and individual task (rasberry pi)\n",
    "    Server side web development (django, flask)\n",
    "        Server side scripting means hosting a web server that can handle requests\n",
    "    Software development\n",
    "        Python is robust enough to handle creating almost anything you want to do\n",
    "        \n",
    "Syntax basics:\n",
    "\n",
    "    Python is interpreted based on Indentation / whitespace\n",
    "    Two commands on the same indentation level are in the same block of code and have the same\n",
    "    SCOPE(or visibility)\n",
    "    generally, anything on the same level or inner will have access to that defined variable\n",
    "    EX.\n",
    "    var1 = 1\n",
    "    if var1 == 1:\n",
    "        var2 = 2\n",
    "        var1 = var2#The system knows what var1 is because we defined it outside of the if statement\n",
    "        if var1 == 2:\n",
    "            var3 = 3\n",
    "        var2 = var3#The system will not know what var3 is because var3 is defined on an inner scope\n",
    "We will get into what variables and if statements are in a second\n",
    "        "
   ]
  },
  {
   "cell_type": "markdown",
   "metadata": {},
   "source": [
    "VARIABLES\n",
    "Python is a Dynamically typed language\n",
    "What does this mean????\n",
    "It means that we do not need to declare variable types - Or directly state what type they are, we just trust Python to keep track for us "
   ]
  },
  {
   "cell_type": "code",
   "execution_count": 1,
   "metadata": {},
   "outputs": [
    {
     "name": "stdout",
     "output_type": "stream",
     "text": [
      "6.6\n"
     ]
    }
   ],
   "source": [
    "#there are four very basic types, \n",
    "#Strings, which are surrounded by \"\"\n",
    "string1 = \"hello\"\n",
    "#ints which are numbers WITHOUT decimal places\n",
    "int1 = 6\n",
    "#Floats, which are numbers WITH decimal places\n",
    "float1 = 6.6\n",
    "#And BOOLEANS, which are true / false values and must have the first letter Capitalized\n",
    "bool1 = True \n",
    "#We can print out any variable using the print() function built into python\n",
    "#Print will show us whatever is in inside the () to our console - in this case our console is below\n",
    "#our statements\n",
    "print(float1)"
   ]
  },
  {
   "cell_type": "code",
   "execution_count": 2,
   "metadata": {},
   "outputs": [
    {
     "name": "stdout",
     "output_type": "stream",
     "text": [
      "<class 'bool'>\n",
      "<class 'float'>\n"
     ]
    }
   ],
   "source": [
    "#we can also check the type using the python built in type()command\n",
    "print(type(bool1))\n",
    "print(type(float1))"
   ]
  },
  {
   "cell_type": "code",
   "execution_count": 3,
   "metadata": {},
   "outputs": [
    {
     "name": "stdout",
     "output_type": "stream",
     "text": [
      "hello world\n",
      "12.6\n"
     ]
    }
   ],
   "source": [
    "#We can add together variables of the same type.\n",
    "#When done with a string, it will concatinate the strings together\n",
    "string2 = \" world\"\n",
    "print(string1 + string2)\n",
    "#when done with an int or float, it adds them mathematically\n",
    "print(int1 + float1)\n",
    "#However, we cannot add Strings and ints together\n",
    "#print(string1 + int1)"
   ]
  },
  {
   "cell_type": "code",
   "execution_count": 4,
   "metadata": {},
   "outputs": [
    {
     "name": "stdout",
     "output_type": "stream",
     "text": [
      "4\n",
      "<class 'int'>\n",
      "4.0\n",
      "<class 'float'>\n",
      "4.0\n",
      "<class 'str'>\n"
     ]
    }
   ],
   "source": [
    "#However, if we do want to add string and numeric values together, we can use \n",
    "#python's built in casting system to change the type of a variable.  check it out.\n",
    "int2 = 4\n",
    "print(int2)\n",
    "print(type(int2))\n",
    "int2 = float(int2)\n",
    "print(int2)\n",
    "print(type(int2))\n",
    "int2 = str(int2)\n",
    "print(int2)\n",
    "print(type(int2))"
   ]
  },
  {
   "cell_type": "code",
   "execution_count": 5,
   "metadata": {},
   "outputs": [
    {
     "name": "stdout",
     "output_type": "stream",
     "text": [
      "hello 4.0\n"
     ]
    }
   ],
   "source": [
    "#Now that int2 is a string, I can also add it to other strings\n",
    "print(string1 + \" \" + int2)"
   ]
  },
  {
   "cell_type": "code",
   "execution_count": 6,
   "metadata": {},
   "outputs": [
    {
     "name": "stdout",
     "output_type": "stream",
     "text": [
      "o\n",
      "el\n"
     ]
    }
   ],
   "source": [
    "#We can access into strings using the [] operator.  with 0 being the first character and \n",
    "#-1 being the last\n",
    "print(string1[-1])\n",
    "#In the same way, we can also get a substring using [:] where the first number is inclusive\n",
    "#and the second is exclusive\n",
    "print(string1[1:3])\n",
    "#Notice this gives us the character at 1 and 2, but not 3\n",
    "\n"
   ]
  },
  {
   "cell_type": "markdown",
   "metadata": {},
   "source": [
    "Collections in Python\n",
    "A lot of times, we do not just want to deal with one number, we are dealing with many numbers, and want to arrange those numbers accordingly.\n",
    "luckily Python comes with 4 easy built in collections\n",
    "Tuples\n",
    "Lists\n",
    "Sets\n",
    "Dictionaries"
   ]
  },
  {
   "cell_type": "code",
   "execution_count": 7,
   "metadata": {},
   "outputs": [
    {
     "name": "stdout",
     "output_type": "stream",
     "text": [
      "2\n"
     ]
    }
   ],
   "source": [
    "#First we will go over Tuples.\n",
    "#We use tuples when we have a set of numbers that will NOT CHANGE\n",
    "tup1 = (1,2,3,\"dog\")\n",
    "#we can access into a tuple using the [] operator similar to strings\n",
    "print(tup1[1])"
   ]
  },
  {
   "cell_type": "code",
   "execution_count": 8,
   "metadata": {},
   "outputs": [
    {
     "name": "stdout",
     "output_type": "stream",
     "text": [
      "[1, 'kitten', 3, 'dog', 'cat']\n"
     ]
    }
   ],
   "source": [
    "#Next we will go over lists\n",
    "#Lists are similar to tuples, except we can change the contents inside them whenever we want!\n",
    "list1 = [1,2,3,\"dog\"]\n",
    "#The append function adds to the end of a list\n",
    "list1.append(\"cat\")\n",
    "list1[1] = \"kitten\"\n",
    "print(list1)"
   ]
  },
  {
   "cell_type": "code",
   "execution_count": 9,
   "metadata": {},
   "outputs": [
    {
     "name": "stdout",
     "output_type": "stream",
     "text": [
      "{'dog', 42, 3, 'fish'}\n",
      "True\n"
     ]
    }
   ],
   "source": [
    "#Next we will go over Sets\n",
    "#Sets are NON ORDERED and DO NOT CONTAIN DUPLICATES\n",
    "set1 = {\"dog\", \"fish\", 42}\n",
    "set1.add(\"dog\")\n",
    "set1.add(3)\n",
    "print(set1)\n",
    "#In order to check if something is in our set, we use the \"in\" operator\n",
    "print(\"dog\" in set1)"
   ]
  },
  {
   "cell_type": "code",
   "execution_count": 10,
   "metadata": {},
   "outputs": [
    {
     "name": "stdout",
     "output_type": "stream",
     "text": [
      "{'StudentNo': 5555, 'major': 'Computer Science', 'zip': 30313}\n",
      "Computer Science\n"
     ]
    }
   ],
   "source": [
    "#Finally, we will review dictionaries, which are Key:Value Pairs.\n",
    "dict1 = {\"StudentNo\":5555, \"major\":\"Computer Science\"}\n",
    "#We can add by defining something not currently in the dictionary\n",
    "dict1[\"zip\"] = 30313\n",
    "print(dict1)\n",
    "#if we know a key, we can go ahead and get the value from it like so\n",
    "print(dict1[\"major\"])"
   ]
  },
  {
   "cell_type": "markdown",
   "metadata": {},
   "source": [
    "Conditionals\n",
    "Conditional statements are used to execute a certain command only if certain requirements are met\n",
    "the basic conditionals are if, elif, and else.\n",
    "ifs are interpreted from start to end, so it will first interpret the if statement, then move to elif in the order they were written, then finally the else (note: elif and else ARE NOT required)\n",
    "REMEMBER indentation matters!!!"
   ]
  },
  {
   "cell_type": "code",
   "execution_count": 11,
   "metadata": {},
   "outputs": [
    {
     "name": "stdout",
     "output_type": "stream",
     "text": [
      "bark\n"
     ]
    }
   ],
   "source": [
    "if \"dog\" in tup1:\n",
    "    print(\"bark\")\n",
    "elif \"cat\" in tup1:\n",
    "    print(\"meow\")\n",
    "else:\n",
    "    print(\"I am not a dog or cat\")"
   ]
  },
  {
   "cell_type": "code",
   "execution_count": 12,
   "metadata": {},
   "outputs": [
    {
     "name": "stdout",
     "output_type": "stream",
     "text": [
      "bark\n",
      "I am not a dog or cat\n"
     ]
    }
   ],
   "source": [
    "#If statements do not need an elif or else, they are optional\n",
    "if \"dog\" in tup1:\n",
    "    #since there is an if directly after this, this if statement stands alone\n",
    "    print(\"bark\")\n",
    "if \"cat\" in tup1:\n",
    "    print(\"meow\")\n",
    "else:\n",
    "    #This else statement belongs to the If Directly above it.  The first if is independent\n",
    "    print(\"I am not a dog or cat\")\n",
    "#therefore both the first if, and the else statement are executed."
   ]
  },
  {
   "cell_type": "markdown",
   "metadata": {},
   "source": [
    "For loops\n",
    "Probably the most powerful tool in a programming language is the ability to interate over every item with one statement\n",
    "this is done using for loops\n",
    "Python has a very simple method for writing for loops"
   ]
  },
  {
   "cell_type": "code",
   "execution_count": 13,
   "metadata": {},
   "outputs": [
    {
     "name": "stdout",
     "output_type": "stream",
     "text": [
      "1\n",
      "kitten\n",
      "3\n",
      "dog\n",
      "cat\n"
     ]
    }
   ],
   "source": [
    "for x in list1:\n",
    "    print(x)"
   ]
  },
  {
   "cell_type": "code",
   "execution_count": 14,
   "metadata": {},
   "outputs": [
    {
     "name": "stdout",
     "output_type": "stream",
     "text": [
      "I am still small.  I am only 0\n",
      "I am still small.  I am only 1\n",
      "I am still small.  I am only 2\n",
      "I must be pretty big I'm 3\n",
      "I must be pretty big I'm 4\n"
     ]
    }
   ],
   "source": [
    "#Here is a more complex for loop, utilizing if statements also\n",
    "#this for look will first look for the length of list 1 (5 items), then will make x each number\n",
    "#in that range (so will be 0,1,2,3,4) this is how you create that \"classic\" java or c++ loop \n",
    "for x in range(len(list1)):\n",
    "    if x > 2:\n",
    "        print(\"I must be pretty big I'm \" + str(x))\n",
    "    else:\n",
    "        print(\"I am still small.  I am only \" + str(x))"
   ]
  },
  {
   "cell_type": "markdown",
   "metadata": {},
   "source": [
    "Now that we have learned the basics, we are ready for FUNCTIONS\n",
    "functions are sections of code that are CALLABLE\n",
    "that means throughout our code we can \"summon\" that code we created once to run\n",
    "a function WILL NOT run unless called\n",
    "A Parameter is a variable we can pass into a function in order to change the function's behavior"
   ]
  },
  {
   "cell_type": "code",
   "execution_count": 17,
   "metadata": {},
   "outputs": [],
   "source": [
    "def my_func(x, y): #we use def to define a function, then all parameters are inside the parentesis\n",
    "    #this function multiplies 2 numbers together and then puts the result in set1, and returns that number\n",
    "    z = x * y\n",
    "    if z > 0:\n",
    "        set1.add(z)\n",
    "    return z #functions with a return statement put the information after the return statement into \n",
    "#the variable defined when we call our function. return statements are optional.\n"
   ]
  },
  {
   "cell_type": "code",
   "execution_count": 18,
   "metadata": {},
   "outputs": [
    {
     "name": "stdout",
     "output_type": "stream",
     "text": [
      "12\n",
      "50\n",
      "{3, 'dog', 42, 12, 50, 'fish'}\n"
     ]
    }
   ],
   "source": [
    "#Now we will test our function\n",
    "result = my_func(3,4) #calls myfunc \n",
    "result2 = my_func(5,10)\n",
    "print(result)\n",
    "print(result2) #notice how these variables now contain what we specified by the return statement\n",
    "print(set1) #in addition, both of those values are now in set1!"
   ]
  },
  {
   "cell_type": "markdown",
   "metadata": {},
   "source": [
    "Today we have learned everything from the basic Python types, all the way up to crafting simple functions.  This is as far as this lesson will go.  If anyone has any questions, I would be happy to clarify now!"
   ]
  }
 ],
 "metadata": {
  "kernelspec": {
   "display_name": "Python 3",
   "language": "python",
   "name": "python3"
  },
  "language_info": {
   "codemirror_mode": {
    "name": "ipython",
    "version": 3
   },
   "file_extension": ".py",
   "mimetype": "text/x-python",
   "name": "python",
   "nbconvert_exporter": "python",
   "pygments_lexer": "ipython3",
   "version": "3.6.3"
  }
 },
 "nbformat": 4,
 "nbformat_minor": 2
}
